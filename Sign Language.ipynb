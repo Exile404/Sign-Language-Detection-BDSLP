{
 "cells": [
  {
   "cell_type": "markdown",
   "metadata": {
    "collapsed": false
   },
   "source": [
    "# 1. Import and Install Dependencies"
   ]
  },
  {
   "cell_type": "code",
   "execution_count": null,
   "metadata": {
    "ExecuteTime": {
     "end_time": "2023-08-04T04:25:36.193018600Z",
     "start_time": "2023-08-04T04:25:27.496003800Z"
    },
    "collapsed": true
   },
   "outputs": [],
   "source": [
    "!pip install tensorflow opencv-python mediapipe scikit-learn matplotlib pandas"
   ]
  },
  {
   "cell_type": "code",
   "execution_count": 1,
   "metadata": {
    "ExecuteTime": {
     "end_time": "2023-08-04T04:25:36.210004300Z",
     "start_time": "2023-08-04T04:25:36.198004300Z"
    },
    "collapsed": false
   },
   "outputs": [],
   "source": [
    "import cv2\n",
    "import numpy as np\n",
    "import os\n",
    "%matplotlib nbagg\n",
    "import matplotlib.pyplot as plt\n",
    "import time\n",
    "import mediapipe as mp\n",
    "from PIL import Image\n",
    "from IPython.display import display\n",
    "from PIL import Image, ImageDraw, ImageFont\n",
    "import numpy as np"
   ]
  },
  {
   "cell_type": "markdown",
   "metadata": {
    "collapsed": false
   },
   "source": [
    "# 2. Keypoints using MP holistic"
   ]
  },
  {
   "cell_type": "code",
   "execution_count": 2,
   "metadata": {
    "ExecuteTime": {
     "end_time": "2023-08-04T04:25:36.267002400Z",
     "start_time": "2023-08-04T04:25:36.211003200Z"
    },
    "collapsed": false
   },
   "outputs": [],
   "source": [
    "mp_holistic = mp.solutions.holistic # Holistic model\n",
    "mp_drawing = mp.solutions.drawing_utils # Drawing utilities"
   ]
  },
  {
   "cell_type": "code",
   "execution_count": 3,
   "metadata": {
    "ExecuteTime": {
     "end_time": "2023-08-04T04:25:36.270003Z",
     "start_time": "2023-08-04T04:25:36.228014500Z"
    },
    "collapsed": false
   },
   "outputs": [],
   "source": [
    "def mediapipe_detection(image, model):\n",
    "    image =  cv2.cvtColor(image, cv2.COLOR_BGR2RGB)# COLOR CONVERSION BGR 2 RGB\n",
    "    image.flags.writeable = False                  # Image is no longer writeable\n",
    "    results = model.process(image)                 # Make prediction\n",
    "    image.flags.writeable = True                   # Image is now writeable\n",
    "    image = cv2.cvtColor(image, cv2.COLOR_RGB2BGR) # COLOR COVERSION RGB 2 BGR\n",
    "    return image, results"
   ]
  },
  {
   "cell_type": "code",
   "execution_count": 4,
   "metadata": {
    "ExecuteTime": {
     "end_time": "2023-08-04T04:25:36.271014400Z",
     "start_time": "2023-08-04T04:25:36.244003600Z"
    },
    "collapsed": false
   },
   "outputs": [],
   "source": [
    "def draw_landmarks(image,results):\n",
    "   \n",
    "    mp_drawing.draw_landmarks(image,results.pose_landmarks,mp_holistic.POSE_CONNECTIONS)\n",
    "    mp_drawing.draw_landmarks(image,results.left_hand_landmarks,mp_holistic.HAND_CONNECTIONS)\n",
    "    mp_drawing.draw_landmarks(image,results.right_hand_landmarks,mp_holistic.HAND_CONNECTIONS)"
   ]
  },
  {
   "cell_type": "code",
   "execution_count": 5,
   "metadata": {
    "ExecuteTime": {
     "end_time": "2023-08-04T04:25:36.346003200Z",
     "start_time": "2023-08-04T04:25:36.260019700Z"
    },
    "collapsed": false
   },
   "outputs": [],
   "source": [
    "def draw_styled_landmarks(image,results):\n",
    "   \n",
    "    mp_drawing.draw_landmarks(image,results.pose_landmarks,mp_holistic.POSE_CONNECTIONS,\n",
    "                              mp_drawing.DrawingSpec(color=(80,22,10),thickness=2,circle_radius=4),\n",
    "                              mp_drawing.DrawingSpec(color=(80,44,121),thickness=2,circle_radius=2))\n",
    "    mp_drawing.draw_landmarks(image,results.left_hand_landmarks,mp_holistic.HAND_CONNECTIONS,\n",
    "                              mp_drawing.DrawingSpec(color=(121,22,76),thickness=2,circle_radius=4),\n",
    "                              mp_drawing.DrawingSpec(color=(121,44,250),thickness=2,circle_radius=1))\n",
    "    mp_drawing.draw_landmarks(image,results.right_hand_landmarks,mp_holistic.HAND_CONNECTIONS,\n",
    "                              mp_drawing.DrawingSpec(color=(245,117,66),thickness=2,circle_radius=4),\n",
    "                              mp_drawing.DrawingSpec(color=(245,66,230),thickness=2,circle_radius=2))"
   ]
  },
  {
   "cell_type": "markdown",
   "metadata": {
    "collapsed": false
   },
   "source": []
  },
  {
   "cell_type": "markdown",
   "metadata": {
    "collapsed": false
   },
   "source": [
    "# 3. Extract keypoint values"
   ]
  },
  {
   "cell_type": "code",
   "execution_count": 6,
   "metadata": {
    "ExecuteTime": {
     "end_time": "2023-08-04T04:25:36.347002200Z",
     "start_time": "2023-08-04T04:25:36.277004300Z"
    },
    "collapsed": false
   },
   "outputs": [],
   "source": [
    "def extract_keypoints(results):\n",
    "    pose = np.array([[res.x, res.y, res.z, res.visibility] for res in results.pose_landmarks.landmark]).flatten() if results.pose_landmarks else np.zeros(33*4)\n",
    "\n",
    "    lh = np.array([[res.x, res.y, res.z] for res in results.left_hand_landmarks.landmark]).flatten() if results.left_hand_landmarks else np.zeros(21*3)\n",
    "    rh = np.array([[res.x, res.y, res.z] for res in results.right_hand_landmarks.landmark]).flatten() if results.right_hand_landmarks else np.zeros(21*3)\n",
    "    return np.concatenate([pose, lh, rh])"
   ]
  },
  {
   "cell_type": "markdown",
   "metadata": {
    "collapsed": false
   },
   "source": [
    "Setup folders for collection"
   ]
  },
  {
   "cell_type": "code",
   "execution_count": 7,
   "metadata": {
    "ExecuteTime": {
     "end_time": "2023-08-04T04:27:53.365798900Z",
     "start_time": "2023-08-04T04:27:53.260798800Z"
    },
    "collapsed": false
   },
   "outputs": [],
   "source": [
    "DATA_PATH = os.path.join('BL_Data')\n",
    "actions = np.array(['Ajebaje', 'Akash', 'Alada', 'Allah', 'Asha', 'Bakko', 'Bank', 'Bari', 'Bebsha', 'Bepar', 'Beyam', 'Bhromon', 'Bibaho', 'Biggan', 'Biruddhe', 'Bisoy', 'Boi', 'Boka', 'Bristi', 'Camera', 'Cha', 'Chaowa', 'Churanto', 'Dam', 'Daraw', 'Dawat', 'Dharona', 'Dhowa', 'Dokandar', 'Dol', 'Dowa_Kora', 'Druto', 'Dupur', 'Durgondho', 'Ful', 'Gari', 'Ghi', 'Ghori', 'Ghosito_Howa', 'Ghumano', 'Haat', 'Hashi', 'Hassokor', 'Injection', 'Jailkhana', 'Jinish', 'Jogajog', 'Kachi', 'Kapor', 'Kashi', 'Khaowa', 'Khoma', 'Klanto', 'Kukur', 'Mach', 'Matha', 'Matha_Betha', 'Mongol', 'Moyla', 'Name', 'Norachora', 'Ojon', 'Onusoron', 'Opomanjonok', 'Osushtho', 'Oushodh', 'Petuk', 'Phone', 'Pochondo', 'Porikkha', 'Poriskar', 'Prostut', 'Protarona', 'Raat', 'Rajdhani', 'Rasta', 'Sabdhan', 'Sajano', 'Shasti', 'Shokti', 'Shorto', 'Shotru', 'Sokal', 'Soman', 'Somossha', 'Somoy', 'Songbad', 'Sonkirno', 'Sosta', 'Table', 'Taka', 'Tamasha', 'Tapmatra', 'Tarikh', 'Touri_Kora', 'Tumi', 'Unnoto', 'Upor', 'Vaggo', 'Valo', 'Vari', 'Vule_jawa'])\n",
    "\n",
    "\n",
    "no_sequences = 30\n",
    "sequence_length = 30"
   ]
  },
  {
   "cell_type": "code",
   "execution_count": 8,
   "metadata": {
    "ExecuteTime": {
     "end_time": "2023-08-04T04:29:48.093010700Z",
     "start_time": "2023-08-04T04:29:47.053011900Z"
    },
    "collapsed": false
   },
   "outputs": [
    {
     "data": {
      "text/plain": [
       "array(['Ajebaje', 'Akash', 'Alada', 'Allah', 'Asha', 'Bakko', 'Bank',\n",
       "       'Bari', 'Bebsha', 'Bepar', 'Beyam', 'Bhromon', 'Bibaho', 'Biggan',\n",
       "       'Biruddhe', 'Bisoy', 'Boi', 'Boka', 'Bristi', 'Camera', 'Cha',\n",
       "       'Chaowa', 'Churanto', 'Dam', 'Daraw', 'Dawat', 'Dharona', 'Dhowa',\n",
       "       'Dokandar', 'Dol', 'Dowa_Kora', 'Druto', 'Dupur', 'Durgondho',\n",
       "       'Ful', 'Gari', 'Ghi', 'Ghori', 'Ghosito_Howa', 'Ghumano', 'Haat',\n",
       "       'Hashi', 'Hassokor', 'Injection', 'Jailkhana', 'Jinish', 'Jogajog',\n",
       "       'Kachi', 'Kapor', 'Kashi', 'Khaowa', 'Khoma', 'Klanto', 'Kukur',\n",
       "       'Mach', 'Matha', 'Matha_Betha', 'Mongol', 'Moyla', 'Name',\n",
       "       'Norachora', 'Ojon', 'Onusoron', 'Opomanjonok', 'Osushtho',\n",
       "       'Oushodh', 'Petuk', 'Phone', 'Pochondo', 'Porikkha', 'Poriskar',\n",
       "       'Prostut', 'Protarona', 'Raat', 'Rajdhani', 'Rasta', 'Sabdhan',\n",
       "       'Sajano', 'Shasti', 'Shokti', 'Shorto', 'Shotru', 'Sokal', 'Soman',\n",
       "       'Somossha', 'Somoy', 'Songbad', 'Sonkirno', 'Sosta', 'Table',\n",
       "       'Taka', 'Tamasha', 'Tapmatra', 'Tarikh', 'Touri_Kora', 'Tumi',\n",
       "       'Unnoto', 'Upor', 'Vaggo', 'Valo', 'Vari', 'Vule_jawa'],\n",
       "      dtype='<U12')"
      ]
     },
     "execution_count": 8,
     "metadata": {},
     "output_type": "execute_result"
    }
   ],
   "source": [
    "actions"
   ]
  },
  {
   "cell_type": "code",
   "execution_count": null,
   "metadata": {
    "ExecuteTime": {
     "end_time": "2023-08-04T04:29:50.488039900Z",
     "start_time": "2023-08-04T04:29:49.966045700Z"
    },
    "collapsed": false
   },
   "outputs": [],
   "source": [
    "for action in actions:\n",
    "    for sequence in range(no_sequences):\n",
    "        try:\n",
    "            os.makedirs(os.path.join(DATA_PATH,action,str(sequence)))\n",
    "        except:\n",
    "            pass\n"
   ]
  },
  {
   "cell_type": "code",
   "execution_count": null,
   "metadata": {
    "ExecuteTime": {
     "end_time": "2023-08-04T04:38:23.457357600Z",
     "start_time": "2023-08-04T04:38:22.996138700Z"
    },
    "collapsed": false
   },
   "outputs": [],
   "source": [
    "import os\n",
    "\n",
    "# NEW Read images from folder\n",
    "image_folder = 'FInal_Dataset'\n",
    "image_files = [os.path.join(image_folder, f) for f in os.listdir(image_folder) if f.endswith('.jpg')]\n",
    "x=0\n",
    "# Set mediapipe model\n",
    "with mp_holistic.Holistic(min_detection_confidence=0.5, min_tracking_confidence=0.5) as holistic:\n",
    "\n",
    "    # Loop through actions\n",
    "    for action in actions:\n",
    "        # Loop through sequences aka videos\n",
    "        for sequence in range(no_sequences):\n",
    "            # Loop through video length aka sequence length\n",
    "            for frame_num in range(sequence_length):\n",
    "\n",
    "                # Read feed\n",
    "                image = cv2.imread(image_files[sequence+x])\n",
    "\n",
    "                # Make detections\n",
    "                image, results = mediapipe_detection(image, holistic)\n",
    "\n",
    "                # Draw landmarks\n",
    "                draw_styled_landmarks(image, results)\n",
    "\n",
    "                # Apply wait logic\n",
    "                if frame_num == 0:\n",
    "                    cv2.putText(image, 'STARTING COLLECTION', (120,200),\n",
    "                               cv2.FONT_HERSHEY_SIMPLEX, 1, (0,255, 0), 4, cv2.LINE_AA)\n",
    "                    cv2.putText(image, 'Collecting frames for {} Video Number {}'.format(action, sequence), (15,12),\n",
    "                               cv2.FONT_HERSHEY_SIMPLEX, 0.5, (0, 0, 255), 1, cv2.LINE_AA)\n",
    "                    # Show to screen\n",
    "                     # Resize image to fit screen\n",
    "                    cv2.imshow('OpenCV Feed', image)\n",
    "                    cv2.waitKey(100)\n",
    "                else:\n",
    "                    cv2.putText(image, 'Collecting frames for {} Video Number {}'.format(action, sequence), (15,12),\n",
    "                               cv2.FONT_HERSHEY_SIMPLEX, 0.5, (0, 0, 255), 1, cv2.LINE_AA)\n",
    "                    # Show to screen\n",
    "                      # Resize image to fit screen\n",
    "                    cv2.imshow('OpenCV Feed', image)\n",
    "\n",
    "                # Export keypoints\n",
    "                keypoints = extract_keypoints(results)\n",
    "                npy_path = os.path.join(DATA_PATH, action, str(sequence), str(frame_num))\n",
    "                np.save(npy_path, keypoints)\n",
    "                # Break gracefully\n",
    "                if cv2.waitKey(10) & 0xFF == ord('q'):\n",
    "                    break\n",
    "\n",
    "        x+=30\n",
    "    cv2.destroyAllWindows()"
   ]
  },
  {
   "cell_type": "code",
   "execution_count": null,
   "metadata": {
    "ExecuteTime": {
     "end_time": "2023-08-04T04:30:47.086290400Z",
     "start_time": "2023-08-04T04:30:46.980292Z"
    },
    "collapsed": false
   },
   "outputs": [],
   "source": [
    "cv2.destroyAllWindows()"
   ]
  },
  {
   "cell_type": "markdown",
   "metadata": {
    "collapsed": false
   },
   "source": [
    "# Preprocess and Create Labels and Features"
   ]
  },
  {
   "cell_type": "code",
   "execution_count": 9,
   "metadata": {
    "ExecuteTime": {
     "end_time": "2023-08-03T17:43:52.532543700Z",
     "start_time": "2023-08-03T17:43:52.497597100Z"
    },
    "collapsed": false
   },
   "outputs": [],
   "source": [
    "from sklearn.model_selection import train_test_split\n",
    "from tensorflow.keras.utils import to_categorical"
   ]
  },
  {
   "cell_type": "code",
   "execution_count": 10,
   "metadata": {
    "ExecuteTime": {
     "end_time": "2023-08-03T17:43:52.971030700Z",
     "start_time": "2023-08-03T17:43:52.942030800Z"
    },
    "collapsed": false
   },
   "outputs": [],
   "source": [
    "label_map = {label:num for num, label in enumerate(actions)}"
   ]
  },
  {
   "cell_type": "code",
   "execution_count": 11,
   "metadata": {
    "ExecuteTime": {
     "end_time": "2023-08-03T17:43:53.491042800Z",
     "start_time": "2023-08-03T17:43:53.465030600Z"
    },
    "collapsed": false
   },
   "outputs": [
    {
     "data": {
      "text/plain": [
       "{'Ajebaje': 0,\n",
       " 'Akash': 1,\n",
       " 'Alada': 2,\n",
       " 'Allah': 3,\n",
       " 'Asha': 4,\n",
       " 'Bakko': 5,\n",
       " 'Bank': 6,\n",
       " 'Bari': 7,\n",
       " 'Bebsha': 8,\n",
       " 'Bepar': 9,\n",
       " 'Beyam': 10,\n",
       " 'Bhromon': 11,\n",
       " 'Bibaho': 12,\n",
       " 'Biggan': 13,\n",
       " 'Biruddhe': 14,\n",
       " 'Bisoy': 15,\n",
       " 'Boi': 16,\n",
       " 'Boka': 17,\n",
       " 'Bristi': 18,\n",
       " 'Camera': 19,\n",
       " 'Cha': 20,\n",
       " 'Chaowa': 21,\n",
       " 'Churanto': 22,\n",
       " 'Dam': 23,\n",
       " 'Daraw': 24,\n",
       " 'Dawat': 25,\n",
       " 'Dharona': 26,\n",
       " 'Dhowa': 27,\n",
       " 'Dokandar': 28,\n",
       " 'Dol': 29,\n",
       " 'Dowa_Kora': 30,\n",
       " 'Druto': 31,\n",
       " 'Dupur': 32,\n",
       " 'Durgondho': 33,\n",
       " 'Ful': 34,\n",
       " 'Gari': 35,\n",
       " 'Ghi': 36,\n",
       " 'Ghori': 37,\n",
       " 'Ghosito_Howa': 38,\n",
       " 'Ghumano': 39,\n",
       " 'Haat': 40,\n",
       " 'Hashi': 41,\n",
       " 'Hassokor': 42,\n",
       " 'Injection': 43,\n",
       " 'Jailkhana': 44,\n",
       " 'Jinish': 45,\n",
       " 'Jogajog': 46,\n",
       " 'Kachi': 47,\n",
       " 'Kapor': 48,\n",
       " 'Kashi': 49,\n",
       " 'Khaowa': 50,\n",
       " 'Khoma': 51,\n",
       " 'Klanto': 52,\n",
       " 'Kukur': 53,\n",
       " 'Mach': 54,\n",
       " 'Matha': 55,\n",
       " 'Matha_Betha': 56,\n",
       " 'Mongol': 57,\n",
       " 'Moyla': 58,\n",
       " 'Name': 59,\n",
       " 'Norachora': 60,\n",
       " 'Ojon': 61,\n",
       " 'Onusoron': 62,\n",
       " 'Opomanjonok': 63,\n",
       " 'Osushtho': 64,\n",
       " 'Oushodh': 65,\n",
       " 'Petuk': 66,\n",
       " 'Phone': 67,\n",
       " 'Pochondo': 68,\n",
       " 'Porikkha': 69,\n",
       " 'Poriskar': 70,\n",
       " 'Prostut': 71,\n",
       " 'Protarona': 72,\n",
       " 'Raat': 73,\n",
       " 'Rajdhani': 74,\n",
       " 'Rasta': 75,\n",
       " 'Sabdhan': 76,\n",
       " 'Sajano': 77,\n",
       " 'Shasti': 78,\n",
       " 'Shokti': 79,\n",
       " 'Shorto': 80,\n",
       " 'Shotru': 81,\n",
       " 'Sokal': 82,\n",
       " 'Soman': 83,\n",
       " 'Somossha': 84,\n",
       " 'Somoy': 85,\n",
       " 'Songbad': 86,\n",
       " 'Sonkirno': 87,\n",
       " 'Sosta': 88,\n",
       " 'Table': 89,\n",
       " 'Taka': 90,\n",
       " 'Tamasha': 91,\n",
       " 'Tapmatra': 92,\n",
       " 'Tarikh': 93,\n",
       " 'Touri_Kora': 94,\n",
       " 'Tumi': 95,\n",
       " 'Unnoto': 96,\n",
       " 'Upor': 97,\n",
       " 'Vaggo': 98,\n",
       " 'Valo': 99,\n",
       " 'Vari': 100,\n",
       " 'Vule_jawa': 101}"
      ]
     },
     "execution_count": 11,
     "metadata": {},
     "output_type": "execute_result"
    }
   ],
   "source": [
    "label_map"
   ]
  },
  {
   "cell_type": "code",
   "execution_count": null,
   "metadata": {
    "ExecuteTime": {
     "end_time": "2023-08-03T17:45:32.130318900Z",
     "start_time": "2023-08-03T17:43:54.329031100Z"
    },
    "collapsed": false
   },
   "outputs": [],
   "source": [
    "sequences, labels = [], []\n",
    "for action in actions:\n",
    "    for sequence in range(no_sequences):\n",
    "        window = []\n",
    "        for frame_num in range(sequence_length):\n",
    "            res = np.load(os.path.join(DATA_PATH, action, str(sequence), \"{}.npy\".format(frame_num)))\n",
    "            window.append(res)\n",
    "        sequences.append(window)\n",
    "        labels.append(label_map[action])"
   ]
  },
  {
   "cell_type": "code",
   "execution_count": null,
   "metadata": {
    "ExecuteTime": {
     "end_time": "2023-08-03T17:45:32.243323700Z",
     "start_time": "2023-08-03T17:45:32.133321500Z"
    },
    "collapsed": false
   },
   "outputs": [],
   "source": [
    "np.array(sequences)"
   ]
  },
  {
   "cell_type": "code",
   "execution_count": null,
   "metadata": {
    "ExecuteTime": {
     "end_time": "2023-08-03T17:45:56.596169500Z",
     "start_time": "2023-08-03T17:45:56.476625900Z"
    },
    "collapsed": false
   },
   "outputs": [],
   "source": [
    "x = np.array(sequences)"
   ]
  },
  {
   "cell_type": "code",
   "execution_count": null,
   "metadata": {
    "ExecuteTime": {
     "end_time": "2023-08-03T17:45:57.247074600Z",
     "start_time": "2023-08-03T17:45:57.218168700Z"
    },
    "collapsed": false
   },
   "outputs": [],
   "source": [
    "x.shape"
   ]
  },
  {
   "cell_type": "code",
   "execution_count": null,
   "metadata": {
    "ExecuteTime": {
     "end_time": "2023-08-03T17:45:57.758060Z",
     "start_time": "2023-08-03T17:45:57.728061800Z"
    },
    "collapsed": false
   },
   "outputs": [],
   "source": [
    "y = to_categorical(labels).astype(int)"
   ]
  },
  {
   "cell_type": "code",
   "execution_count": null,
   "metadata": {
    "ExecuteTime": {
     "end_time": "2023-08-03T17:45:59.402968200Z",
     "start_time": "2023-08-03T17:45:59.368957900Z"
    },
    "collapsed": false
   },
   "outputs": [],
   "source": [
    "y"
   ]
  },
  {
   "cell_type": "code",
   "execution_count": null,
   "metadata": {
    "ExecuteTime": {
     "end_time": "2023-08-03T17:46:00.242904200Z",
     "start_time": "2023-08-03T17:46:00.095909900Z"
    },
    "collapsed": false
   },
   "outputs": [],
   "source": [
    "x_train,x_test,y_train,y_test = train_test_split(x,y,test_size=0.40)"
   ]
  },
  {
   "cell_type": "markdown",
   "metadata": {
    "collapsed": false
   },
   "source": [
    "# 7. Build and Train LSTM Neural network"
   ]
  },
  {
   "cell_type": "code",
   "execution_count": 13,
   "metadata": {
    "ExecuteTime": {
     "end_time": "2023-08-03T17:46:02.843969800Z",
     "start_time": "2023-08-03T17:46:02.804968Z"
    },
    "collapsed": false
   },
   "outputs": [],
   "source": [
    "from tensorflow.keras.models import Sequential\n",
    "from tensorflow.keras.layers import LSTM, Dense\n",
    "from tensorflow.keras.callbacks import TensorBoard\n"
   ]
  },
  {
   "cell_type": "code",
   "execution_count": 14,
   "metadata": {
    "ExecuteTime": {
     "end_time": "2023-05-22T09:17:47.757502Z",
     "start_time": "2023-05-22T09:17:47.711175700Z"
    },
    "collapsed": false
   },
   "outputs": [],
   "source": [
    "log_dir = os.path.join('logs2')\n",
    "tb_callback = TensorBoard(log_dir = log_dir)"
   ]
  },
  {
   "cell_type": "code",
   "execution_count": 15,
   "metadata": {
    "ExecuteTime": {
     "end_time": "2023-08-03T17:43:20.491957800Z",
     "start_time": "2023-08-03T17:43:18.571009800Z"
    },
    "collapsed": false
   },
   "outputs": [],
   "source": [
    "\n",
    "model = Sequential()\n",
    "model.add(LSTM(64, return_sequences=True, activation='relu', input_shape=(30,258)))\n",
    "model.add(LSTM(128, return_sequences=True, activation='relu'))\n",
    "model.add(LSTM(64, return_sequences=False, activation='relu'))\n",
    "model.add(Dense(64, activation='relu'))\n",
    "model.add(Dense(32, activation='relu'))\n",
    "model.add(Dense(actions.shape[0], activation='softmax'))"
   ]
  },
  {
   "cell_type": "code",
   "execution_count": null,
   "metadata": {
    "ExecuteTime": {
     "end_time": "2023-05-22T05:36:43.075186400Z",
     "start_time": "2023-05-22T05:36:42.852782700Z"
    },
    "collapsed": false
   },
   "outputs": [],
   "source": [
    "model.compile(optimizer='Adam', loss='categorical_crossentropy',metrics=['categorical_accuracy'])"
   ]
  },
  {
   "cell_type": "code",
   "execution_count": null,
   "metadata": {
    "ExecuteTime": {
     "end_time": "2023-05-22T05:42:45.576271400Z",
     "start_time": "2023-05-22T05:36:43.725447800Z"
    },
    "collapsed": false
   },
   "outputs": [],
   "source": [
    "model.fit(x_train,y_train, epochs= 1000, callbacks=[tb_callback])"
   ]
  },
  {
   "cell_type": "code",
   "execution_count": null,
   "metadata": {
    "ExecuteTime": {
     "end_time": "2023-05-22T05:42:52.342419200Z",
     "start_time": "2023-05-22T05:42:52.212487100Z"
    },
    "collapsed": false
   },
   "outputs": [],
   "source": [
    "model.summary()"
   ]
  },
  {
   "cell_type": "code",
   "execution_count": null,
   "metadata": {
    "ExecuteTime": {
     "end_time": "2023-05-22T05:42:53.544417300Z",
     "start_time": "2023-05-22T05:42:53.515491900Z"
    },
    "collapsed": false
   },
   "outputs": [],
   "source": [
    "model"
   ]
  },
  {
   "cell_type": "code",
   "execution_count": 24,
   "metadata": {
    "ExecuteTime": {
     "end_time": "2023-05-22T05:42:58.232607300Z",
     "start_time": "2023-05-22T05:42:56.109286500Z"
    },
    "collapsed": false
   },
   "outputs": [
    {
     "ename": "NameError",
     "evalue": "name 'x_test' is not defined",
     "output_type": "error",
     "traceback": [
      "\u001b[1;31m---------------------------------------------------------------------------\u001b[0m",
      "\u001b[1;31mNameError\u001b[0m                                 Traceback (most recent call last)",
      "Cell \u001b[1;32mIn[24], line 1\u001b[0m\n\u001b[1;32m----> 1\u001b[0m res \u001b[39m=\u001b[39m model\u001b[39m.\u001b[39mpredict(x_test)\n",
      "\u001b[1;31mNameError\u001b[0m: name 'x_test' is not defined"
     ]
    }
   ],
   "source": [
    "res = model.predict(x_test)"
   ]
  },
  {
   "cell_type": "code",
   "execution_count": null,
   "metadata": {
    "ExecuteTime": {
     "end_time": "2023-05-22T05:43:00.178521700Z",
     "start_time": "2023-05-22T05:43:00.069699500Z"
    },
    "collapsed": false
   },
   "outputs": [],
   "source": [
    "actions[np.argmax(res[0])]"
   ]
  },
  {
   "cell_type": "code",
   "execution_count": null,
   "metadata": {
    "ExecuteTime": {
     "end_time": "2023-05-22T05:43:01.650862500Z",
     "start_time": "2023-05-22T05:43:01.597006600Z"
    },
    "collapsed": false
   },
   "outputs": [],
   "source": [
    "actions[np.argmax(y_test[0])]"
   ]
  },
  {
   "cell_type": "code",
   "execution_count": null,
   "metadata": {
    "ExecuteTime": {
     "start_time": "2023-08-03T17:42:46.728682500Z"
    },
    "collapsed": false
   },
   "outputs": [],
   "source": [
    "model.save('bangla.h5')"
   ]
  },
  {
   "cell_type": "code",
   "execution_count": 16,
   "metadata": {
    "ExecuteTime": {
     "end_time": "2023-08-03T17:46:09.647525200Z",
     "start_time": "2023-08-03T17:46:09.569521500Z"
    },
    "collapsed": false
   },
   "outputs": [],
   "source": [
    "model.load_weights('bangla.h5')"
   ]
  },
  {
   "cell_type": "code",
   "execution_count": 18,
   "metadata": {},
   "outputs": [],
   "source": [
    "import numpy as np\n",
    "\n",
    "# Save x_train and y_train using numpy\n",
    "# np.save('x_train.npy', x_train)\n",
    "# np.save('y_train.npy', y_train)\n",
    "\n",
    "# Load x_train and y_train back from numpy files\n",
    "loaded_x_train = np.load('x_train.npy')\n",
    "loaded_y_train = np.load('y_train.npy')\n"
   ]
  },
  {
   "cell_type": "code",
   "execution_count": 19,
   "metadata": {
    "ExecuteTime": {
     "end_time": "2023-08-03T17:46:10.239056800Z",
     "start_time": "2023-08-03T17:46:10.206057300Z"
    },
    "collapsed": false
   },
   "outputs": [],
   "source": [
    "from sklearn.metrics import multilabel_confusion_matrix, accuracy_score"
   ]
  },
  {
   "cell_type": "code",
   "execution_count": 20,
   "metadata": {
    "ExecuteTime": {
     "end_time": "2023-08-03T17:46:16.678056700Z",
     "start_time": "2023-08-03T17:46:10.777060300Z"
    },
    "collapsed": false
   },
   "outputs": [
    {
     "name": "stdout",
     "output_type": "stream",
     "text": [
      "58/58 [==============================] - 2s 26ms/step\n"
     ]
    }
   ],
   "source": [
    "yhat = model.predict(loaded_x_train )"
   ]
  },
  {
   "cell_type": "code",
   "execution_count": 21,
   "metadata": {
    "ExecuteTime": {
     "end_time": "2023-08-03T17:46:16.719055900Z",
     "start_time": "2023-08-03T17:46:16.680068700Z"
    },
    "collapsed": false
   },
   "outputs": [],
   "source": [
    "ytrue = np.argmax(loaded_y_train ,axis=1).tolist()\n",
    "yhat = np.argmax(yhat,axis=1).tolist()"
   ]
  },
  {
   "cell_type": "code",
   "execution_count": 22,
   "metadata": {
    "ExecuteTime": {
     "end_time": "2023-08-03T17:46:16.752064300Z",
     "start_time": "2023-08-03T17:46:16.711065800Z"
    },
    "collapsed": false
   },
   "outputs": [
    {
     "data": {
      "text/plain": [
       "array([[[1815,    0],\n",
       "        [   0,   21]],\n",
       "\n",
       "       [[1818,    0],\n",
       "        [   0,   18]],\n",
       "\n",
       "       [[1815,    0],\n",
       "        [   4,   17]],\n",
       "\n",
       "       [[1819,    0],\n",
       "        [   0,   17]],\n",
       "\n",
       "       [[1814,    1],\n",
       "        [   0,   21]],\n",
       "\n",
       "       [[1815,    0],\n",
       "        [   0,   21]],\n",
       "\n",
       "       [[1818,    0],\n",
       "        [   0,   18]],\n",
       "\n",
       "       [[1818,    1],\n",
       "        [   0,   17]],\n",
       "\n",
       "       [[1822,    0],\n",
       "        [   0,   14]],\n",
       "\n",
       "       [[1819,    1],\n",
       "        [   4,   12]],\n",
       "\n",
       "       [[1820,    1],\n",
       "        [   1,   14]],\n",
       "\n",
       "       [[1824,    0],\n",
       "        [   0,   12]],\n",
       "\n",
       "       [[1813,    0],\n",
       "        [   0,   23]],\n",
       "\n",
       "       [[1819,    0],\n",
       "        [   0,   17]],\n",
       "\n",
       "       [[1814,    0],\n",
       "        [   0,   22]],\n",
       "\n",
       "       [[1816,    1],\n",
       "        [   0,   19]],\n",
       "\n",
       "       [[1817,    1],\n",
       "        [   0,   18]],\n",
       "\n",
       "       [[1818,    0],\n",
       "        [   0,   18]],\n",
       "\n",
       "       [[1815,    3],\n",
       "        [   0,   18]],\n",
       "\n",
       "       [[1818,    0],\n",
       "        [   0,   18]],\n",
       "\n",
       "       [[1817,    0],\n",
       "        [   0,   19]],\n",
       "\n",
       "       [[1814,    0],\n",
       "        [   0,   22]],\n",
       "\n",
       "       [[1816,    0],\n",
       "        [   0,   20]],\n",
       "\n",
       "       [[1818,    0],\n",
       "        [   0,   18]],\n",
       "\n",
       "       [[1822,    0],\n",
       "        [   0,   14]],\n",
       "\n",
       "       [[1821,    0],\n",
       "        [   0,   15]],\n",
       "\n",
       "       [[1810,    6],\n",
       "        [   0,   20]],\n",
       "\n",
       "       [[1816,    2],\n",
       "        [   0,   18]],\n",
       "\n",
       "       [[1819,    1],\n",
       "        [   0,   16]],\n",
       "\n",
       "       [[1812,    6],\n",
       "        [   0,   18]],\n",
       "\n",
       "       [[1820,    0],\n",
       "        [   3,   13]],\n",
       "\n",
       "       [[1825,    1],\n",
       "        [   0,   10]],\n",
       "\n",
       "       [[1811,    0],\n",
       "        [   0,   25]],\n",
       "\n",
       "       [[1815,    0],\n",
       "        [   4,   17]],\n",
       "\n",
       "       [[1819,    0],\n",
       "        [   2,   15]],\n",
       "\n",
       "       [[1822,    1],\n",
       "        [   0,   13]],\n",
       "\n",
       "       [[1819,    0],\n",
       "        [   1,   16]],\n",
       "\n",
       "       [[1822,    0],\n",
       "        [   0,   14]],\n",
       "\n",
       "       [[1811,    0],\n",
       "        [   1,   24]],\n",
       "\n",
       "       [[1815,    0],\n",
       "        [   0,   21]],\n",
       "\n",
       "       [[1816,    0],\n",
       "        [   0,   20]],\n",
       "\n",
       "       [[1814,    0],\n",
       "        [   2,   20]],\n",
       "\n",
       "       [[1816,    0],\n",
       "        [   0,   20]],\n",
       "\n",
       "       [[1819,    0],\n",
       "        [   1,   16]],\n",
       "\n",
       "       [[1815,    0],\n",
       "        [   0,   21]],\n",
       "\n",
       "       [[1824,    0],\n",
       "        [   1,   11]],\n",
       "\n",
       "       [[1819,    0],\n",
       "        [   0,   17]],\n",
       "\n",
       "       [[1817,    1],\n",
       "        [   2,   16]],\n",
       "\n",
       "       [[1812,    3],\n",
       "        [   0,   21]],\n",
       "\n",
       "       [[1818,    0],\n",
       "        [   0,   18]],\n",
       "\n",
       "       [[1819,    0],\n",
       "        [   0,   17]],\n",
       "\n",
       "       [[1815,    0],\n",
       "        [   0,   21]],\n",
       "\n",
       "       [[1815,    1],\n",
       "        [   3,   17]],\n",
       "\n",
       "       [[1818,    1],\n",
       "        [   0,   17]],\n",
       "\n",
       "       [[1816,    1],\n",
       "        [   0,   19]],\n",
       "\n",
       "       [[1822,    0],\n",
       "        [   0,   14]],\n",
       "\n",
       "       [[1822,    0],\n",
       "        [   0,   14]],\n",
       "\n",
       "       [[1814,    1],\n",
       "        [   0,   21]],\n",
       "\n",
       "       [[1818,    1],\n",
       "        [   0,   17]],\n",
       "\n",
       "       [[1820,    0],\n",
       "        [   7,    9]],\n",
       "\n",
       "       [[1817,    0],\n",
       "        [   0,   19]],\n",
       "\n",
       "       [[1821,    2],\n",
       "        [   0,   13]],\n",
       "\n",
       "       [[1817,    0],\n",
       "        [   0,   19]],\n",
       "\n",
       "       [[1818,    0],\n",
       "        [   0,   18]],\n",
       "\n",
       "       [[1818,    0],\n",
       "        [   0,   18]],\n",
       "\n",
       "       [[1818,    0],\n",
       "        [   1,   17]],\n",
       "\n",
       "       [[1816,    3],\n",
       "        [   2,   15]],\n",
       "\n",
       "       [[1817,    2],\n",
       "        [   0,   17]],\n",
       "\n",
       "       [[1818,    0],\n",
       "        [   0,   18]],\n",
       "\n",
       "       [[1819,    1],\n",
       "        [   0,   16]],\n",
       "\n",
       "       [[1816,    0],\n",
       "        [   1,   19]],\n",
       "\n",
       "       [[1823,    0],\n",
       "        [   2,   11]],\n",
       "\n",
       "       [[1816,    0],\n",
       "        [   0,   20]],\n",
       "\n",
       "       [[1814,    1],\n",
       "        [   0,   21]],\n",
       "\n",
       "       [[1821,    0],\n",
       "        [   0,   15]],\n",
       "\n",
       "       [[1818,    0],\n",
       "        [   0,   18]],\n",
       "\n",
       "       [[1811,    8],\n",
       "        [   0,   17]],\n",
       "\n",
       "       [[1811,    3],\n",
       "        [   2,   20]],\n",
       "\n",
       "       [[1821,    1],\n",
       "        [   0,   14]],\n",
       "\n",
       "       [[1819,    0],\n",
       "        [   0,   17]],\n",
       "\n",
       "       [[1818,    1],\n",
       "        [   5,   12]],\n",
       "\n",
       "       [[1822,    0],\n",
       "        [   1,   13]],\n",
       "\n",
       "       [[1816,    2],\n",
       "        [   0,   18]],\n",
       "\n",
       "       [[1818,    0],\n",
       "        [   0,   18]],\n",
       "\n",
       "       [[1814,    0],\n",
       "        [   0,   22]],\n",
       "\n",
       "       [[1815,    0],\n",
       "        [   0,   21]],\n",
       "\n",
       "       [[1818,    1],\n",
       "        [   0,   17]],\n",
       "\n",
       "       [[1819,    4],\n",
       "        [   2,   11]],\n",
       "\n",
       "       [[1818,    0],\n",
       "        [   1,   17]],\n",
       "\n",
       "       [[1824,    0],\n",
       "        [   0,   12]],\n",
       "\n",
       "       [[1817,    0],\n",
       "        [   4,   15]],\n",
       "\n",
       "       [[1815,    1],\n",
       "        [   2,   18]],\n",
       "\n",
       "       [[1814,    0],\n",
       "        [   4,   18]],\n",
       "\n",
       "       [[1820,    1],\n",
       "        [   0,   15]],\n",
       "\n",
       "       [[1814,    2],\n",
       "        [   0,   20]],\n",
       "\n",
       "       [[1815,    1],\n",
       "        [   0,   20]],\n",
       "\n",
       "       [[1819,    0],\n",
       "        [   6,   11]],\n",
       "\n",
       "       [[1818,    0],\n",
       "        [   0,   18]],\n",
       "\n",
       "       [[1819,    0],\n",
       "        [   1,   16]],\n",
       "\n",
       "       [[1814,    0],\n",
       "        [   0,   22]],\n",
       "\n",
       "       [[1816,    0],\n",
       "        [   0,   20]],\n",
       "\n",
       "       [[1814,    1],\n",
       "        [   0,   21]]], dtype=int64)"
      ]
     },
     "execution_count": 22,
     "metadata": {},
     "output_type": "execute_result"
    }
   ],
   "source": [
    "multilabel_confusion_matrix(ytrue,yhat)"
   ]
  },
  {
   "cell_type": "code",
   "execution_count": 23,
   "metadata": {
    "ExecuteTime": {
     "end_time": "2023-08-03T17:46:16.817071600Z",
     "start_time": "2023-08-03T17:46:16.742056500Z"
    },
    "collapsed": false
   },
   "outputs": [
    {
     "name": "stdout",
     "output_type": "stream",
     "text": [
      "Accuracy: 96.18736383442265 %\n"
     ]
    }
   ],
   "source": [
    "print(f\"Accuracy: {accuracy_score(ytrue, yhat) * 100} %\")"
   ]
  },
  {
   "cell_type": "code",
   "execution_count": null,
   "metadata": {
    "collapsed": false
   },
   "outputs": [],
   "source": [
    "colors = [(245,117,16), (117,245,16), (16,117,245)]\n",
    "def prob_viz(res, actions, input_frame, colors):\n",
    "    output_frame = input_frame.copy()\n",
    "    for num, prob in enumerate(res):\n",
    "        cv2.rectangle(output_frame, (0,60+num*40), (int(prob*100), 90+num*40), colors[num], -1)\n",
    "        cv2.putText(output_frame, actions[num], (0, 85+num*40), cv2.FONT_HERSHEY_SIMPLEX, 1, (255,255,255), 2, cv2.LINE_AA)\n",
    "\n",
    "    return output_frame"
   ]
  },
  {
   "cell_type": "code",
   "execution_count": 25,
   "metadata": {
    "collapsed": false
   },
   "outputs": [],
   "source": [
    "Language = {'Ajebaje': 'আজেবাজে', 'Akash': 'আকাশ', 'Alada': 'আলাদা', 'Allah': 'আল্লাহ', 'Asha': 'আশা', 'Bakko': 'বাক্য', 'Bank': 'ব্যাংক', 'Bari': 'বাড়ি', 'Bebsha': 'ব্যবসা', 'Bepar': 'ব্যাপার', 'Beyam': 'ব্যায়াম', 'Bhromon': 'ভ্রমণ', 'Bibaho': 'বিবাহ', 'Biggan': 'বিজ্ঞান', 'Biruddhe': 'বিরুদ্ধে', 'Bisoy': 'বিষয়', 'Boi': 'বই', 'Boka': 'বকা', 'Bristi': 'বৃষ্টি', 'Camera': 'ক্যামেরা', 'Cha': 'চা', 'Chaowa': 'চাওয়া', 'Churanto': 'চূড়ান্ত', 'Dam': 'দাম', 'Daraw': 'দাঁড়াও', 'Dawat': 'দাওয়াত', 'Dharona': 'ধারণা', 'Dhowa': 'ধোঁয়া', 'Dokandar': 'দোকানদার', 'Dol': 'দল', 'Dowa_Kora': 'দোয়া_করা', 'Druto': 'দ্রুত', 'Dupur': 'দুপুর', 'Durgondho': 'দুর্গন্ধ', 'Ful': 'ফুল', 'Gari': 'গাড়ি', 'Ghi': 'ঘি', 'Ghori': 'ঘড়ি', 'Ghosito_Howa': 'ঘোষিত_হওয়া', 'Ghumano': 'ঘুমানো', 'Haat': 'হাত', 'Hashi': 'হাসি', 'Hassokor': 'হাস্যকর', 'Injection': 'ইনজেকশন', 'Jailkhana': 'জেলখানা', 'Jinish': 'জিনিস', 'Jogajog': 'যোগাযোগ', 'Kachi': 'কাঁচি', 'Kapor': 'কাপড়', 'Kashi': 'কাশি', 'Khaowa': 'খাওয়া', 'Khoma': 'ক্ষমা', 'Klanto': 'ক্লান্ত', 'Kukur': 'কুকুর', 'Mach': 'মাছ', 'Matha': 'মাথা', 'Matha_Betha': 'মাথা_ব্যথা', 'Mongol': 'মঙ্গল', 'Moyla': 'ময়লা', 'Name': 'নাম', 'Norachora': 'নড়াচড়া', 'Ojon': 'ওজন', 'Onusoron': 'অনুসরণ', 'Opomanjonok': 'অপমানজনক', 'Osushtho': 'অসুস্থ', 'Oushodh': 'ঔষধ', 'Petuk': 'পেটুক', 'Phone': 'ফোন', 'Pochondo': 'পছন্দ', 'Porikkha': 'পরীক্ষা', 'Poriskar': 'পরিস্কার', 'Prostut': 'প্রস্তুত', 'Protarona': 'প্রতারণা', 'Raat': 'রাত', 'Rajdhani': 'রাজধানী', 'Rasta': 'রাস্তা', 'Sabdhan': 'সাবধান', 'Sajano': 'সাজানো', 'Shasti': 'শাস্তি', 'Shokti': 'শক্তি', 'Shorto': 'শর্ত', 'Shotru': 'শত্রু', 'Sokal': 'সকাল', 'Soman': 'সমান', 'Somossha': 'সমস্যা', 'Somoy': 'সময়', 'Songbad': 'সংবাদ', 'Sonkirno': 'সংকীর্ণ', 'Sosta': 'সস্তা', 'Table': 'টেবিল', 'Taka': 'টাকা', 'Tamasha': 'তামাশা', 'Tapmatra': 'তাপমাত্রা', 'Tarikh': 'তারিখ', 'Touri_Kora': 'তৈরি_করা', 'Tumi': 'তুমি', 'Unnoto': 'উন্নত', 'Upor': 'উপর', 'Vaggo': 'ভাগ্য', 'Valo': 'ভালো', 'Vari': 'ভারী', 'Vule_jawa': 'ভুলে_যাওয়া'}\n"
   ]
  },
  {
   "cell_type": "code",
   "execution_count": 26,
   "metadata": {
    "ExecuteTime": {
     "end_time": "2023-08-03T17:56:16.288764700Z",
     "start_time": "2023-08-03T17:55:26.479585Z"
    },
    "collapsed": false
   },
   "outputs": [
    {
     "name": "stdout",
     "output_type": "stream",
     "text": [
      "<class 'mediapipe.python.solution_base.SolutionOutputs'>\n",
      "<class 'mediapipe.python.solution_base.SolutionOutputs'>\n",
      "<class 'mediapipe.python.solution_base.SolutionOutputs'>\n",
      "<class 'mediapipe.python.solution_base.SolutionOutputs'>\n",
      "<class 'mediapipe.python.solution_base.SolutionOutputs'>\n",
      "<class 'mediapipe.python.solution_base.SolutionOutputs'>\n",
      "<class 'mediapipe.python.solution_base.SolutionOutputs'>\n",
      "<class 'mediapipe.python.solution_base.SolutionOutputs'>\n",
      "<class 'mediapipe.python.solution_base.SolutionOutputs'>\n",
      "<class 'mediapipe.python.solution_base.SolutionOutputs'>\n",
      "<class 'mediapipe.python.solution_base.SolutionOutputs'>\n",
      "<class 'mediapipe.python.solution_base.SolutionOutputs'>\n",
      "<class 'mediapipe.python.solution_base.SolutionOutputs'>\n",
      "<class 'mediapipe.python.solution_base.SolutionOutputs'>\n",
      "<class 'mediapipe.python.solution_base.SolutionOutputs'>\n",
      "<class 'mediapipe.python.solution_base.SolutionOutputs'>\n",
      "<class 'mediapipe.python.solution_base.SolutionOutputs'>\n",
      "<class 'mediapipe.python.solution_base.SolutionOutputs'>\n",
      "<class 'mediapipe.python.solution_base.SolutionOutputs'>\n",
      "<class 'mediapipe.python.solution_base.SolutionOutputs'>\n",
      "<class 'mediapipe.python.solution_base.SolutionOutputs'>\n",
      "<class 'mediapipe.python.solution_base.SolutionOutputs'>\n",
      "<class 'mediapipe.python.solution_base.SolutionOutputs'>\n",
      "<class 'mediapipe.python.solution_base.SolutionOutputs'>\n",
      "<class 'mediapipe.python.solution_base.SolutionOutputs'>\n",
      "<class 'mediapipe.python.solution_base.SolutionOutputs'>\n",
      "<class 'mediapipe.python.solution_base.SolutionOutputs'>\n",
      "<class 'mediapipe.python.solution_base.SolutionOutputs'>\n",
      "<class 'mediapipe.python.solution_base.SolutionOutputs'>\n",
      "<class 'mediapipe.python.solution_base.SolutionOutputs'>\n",
      "1/1 [==============================] - 0s 149ms/step\n",
      "আকাশ\n",
      "<class 'mediapipe.python.solution_base.SolutionOutputs'>\n",
      "1/1 [==============================] - 0s 79ms/step\n",
      "আকাশ\n",
      "<class 'mediapipe.python.solution_base.SolutionOutputs'>\n",
      "1/1 [==============================] - 0s 71ms/step\n",
      "আকাশ\n",
      "<class 'mediapipe.python.solution_base.SolutionOutputs'>\n",
      "1/1 [==============================] - 0s 93ms/step\n",
      "আকাশ\n",
      "<class 'mediapipe.python.solution_base.SolutionOutputs'>\n",
      "1/1 [==============================] - 0s 62ms/step\n",
      "আকাশ\n",
      "<class 'mediapipe.python.solution_base.SolutionOutputs'>\n",
      "1/1 [==============================] - 0s 59ms/step\n",
      "ধোঁয়া\n",
      "<class 'mediapipe.python.solution_base.SolutionOutputs'>\n",
      "1/1 [==============================] - 0s 60ms/step\n",
      "আকাশ\n",
      "<class 'mediapipe.python.solution_base.SolutionOutputs'>\n",
      "1/1 [==============================] - 0s 65ms/step\n",
      "ধোঁয়া\n",
      "<class 'mediapipe.python.solution_base.SolutionOutputs'>\n",
      "1/1 [==============================] - 0s 65ms/step\n",
      "আকাশ\n",
      "<class 'mediapipe.python.solution_base.SolutionOutputs'>\n",
      "1/1 [==============================] - 0s 63ms/step\n",
      "আকাশ\n",
      "<class 'mediapipe.python.solution_base.SolutionOutputs'>\n",
      "1/1 [==============================] - 0s 63ms/step\n",
      "আকাশ\n",
      "<class 'mediapipe.python.solution_base.SolutionOutputs'>\n",
      "1/1 [==============================] - 0s 57ms/step\n",
      "আকাশ\n",
      "<class 'mediapipe.python.solution_base.SolutionOutputs'>\n",
      "1/1 [==============================] - 0s 75ms/step\n",
      "আকাশ\n",
      "<class 'mediapipe.python.solution_base.SolutionOutputs'>\n",
      "1/1 [==============================] - 0s 55ms/step\n",
      "ধোঁয়া\n",
      "<class 'mediapipe.python.solution_base.SolutionOutputs'>\n",
      "1/1 [==============================] - 0s 63ms/step\n",
      "ধোঁয়া\n",
      "<class 'mediapipe.python.solution_base.SolutionOutputs'>\n",
      "1/1 [==============================] - 0s 59ms/step\n",
      "ধোঁয়া\n",
      "<class 'mediapipe.python.solution_base.SolutionOutputs'>\n",
      "1/1 [==============================] - 0s 66ms/step\n",
      "ধোঁয়া\n",
      "<class 'mediapipe.python.solution_base.SolutionOutputs'>\n",
      "1/1 [==============================] - 0s 64ms/step\n",
      "ধোঁয়া\n",
      "<class 'mediapipe.python.solution_base.SolutionOutputs'>\n",
      "1/1 [==============================] - 0s 55ms/step\n",
      "ধোঁয়া\n",
      "<class 'mediapipe.python.solution_base.SolutionOutputs'>\n",
      "1/1 [==============================] - 0s 68ms/step\n",
      "ধোঁয়া\n",
      "<class 'mediapipe.python.solution_base.SolutionOutputs'>\n",
      "1/1 [==============================] - 0s 58ms/step\n",
      "ধোঁয়া\n",
      "<class 'mediapipe.python.solution_base.SolutionOutputs'>\n",
      "1/1 [==============================] - 0s 62ms/step\n",
      "ধোঁয়া\n",
      "<class 'mediapipe.python.solution_base.SolutionOutputs'>\n",
      "1/1 [==============================] - 0s 61ms/step\n",
      "আকাশ\n",
      "<class 'mediapipe.python.solution_base.SolutionOutputs'>\n",
      "1/1 [==============================] - 0s 59ms/step\n",
      "আকাশ\n",
      "<class 'mediapipe.python.solution_base.SolutionOutputs'>\n",
      "1/1 [==============================] - 0s 68ms/step\n",
      "আকাশ\n",
      "<class 'mediapipe.python.solution_base.SolutionOutputs'>\n",
      "1/1 [==============================] - 0s 62ms/step\n",
      "আকাশ\n",
      "<class 'mediapipe.python.solution_base.SolutionOutputs'>\n",
      "1/1 [==============================] - 0s 62ms/step\n",
      "আকাশ\n",
      "<class 'mediapipe.python.solution_base.SolutionOutputs'>\n",
      "1/1 [==============================] - 0s 64ms/step\n",
      "আকাশ\n",
      "<class 'mediapipe.python.solution_base.SolutionOutputs'>\n",
      "1/1 [==============================] - 0s 70ms/step\n",
      "আকাশ\n",
      "<class 'mediapipe.python.solution_base.SolutionOutputs'>\n",
      "1/1 [==============================] - 0s 63ms/step\n",
      "আকাশ\n",
      "<class 'mediapipe.python.solution_base.SolutionOutputs'>\n",
      "1/1 [==============================] - 0s 82ms/step\n",
      "আকাশ\n",
      "<class 'mediapipe.python.solution_base.SolutionOutputs'>\n",
      "1/1 [==============================] - 0s 68ms/step\n",
      "আকাশ\n",
      "<class 'mediapipe.python.solution_base.SolutionOutputs'>\n",
      "1/1 [==============================] - 0s 65ms/step\n",
      "আকাশ\n",
      "<class 'mediapipe.python.solution_base.SolutionOutputs'>\n",
      "1/1 [==============================] - 0s 76ms/step\n",
      "আকাশ\n",
      "<class 'mediapipe.python.solution_base.SolutionOutputs'>\n",
      "1/1 [==============================] - 0s 54ms/step\n",
      "আকাশ\n",
      "<class 'mediapipe.python.solution_base.SolutionOutputs'>\n",
      "1/1 [==============================] - 0s 61ms/step\n",
      "আকাশ\n",
      "<class 'mediapipe.python.solution_base.SolutionOutputs'>\n",
      "1/1 [==============================] - 0s 60ms/step\n",
      "আকাশ\n",
      "<class 'mediapipe.python.solution_base.SolutionOutputs'>\n",
      "1/1 [==============================] - 0s 93ms/step\n",
      "আকাশ\n",
      "<class 'mediapipe.python.solution_base.SolutionOutputs'>\n",
      "1/1 [==============================] - 0s 58ms/step\n",
      "আকাশ\n"
     ]
    },
    {
     "ename": "KeyboardInterrupt",
     "evalue": "",
     "output_type": "error",
     "traceback": [
      "\u001b[1;31m---------------------------------------------------------------------------\u001b[0m",
      "\u001b[1;31mKeyboardInterrupt\u001b[0m                         Traceback (most recent call last)",
      "Cell \u001b[1;32mIn[26], line 48\u001b[0m\n\u001b[0;32m     44\u001b[0m     \u001b[39m# Viz probabilities\u001b[39;00m\n\u001b[0;32m     45\u001b[0m     \u001b[39m# image = prob_viz(res, actions, image, colors)\u001b[39;00m\n\u001b[0;32m     47\u001b[0m cv2\u001b[39m.\u001b[39mrectangle(image, (\u001b[39m0\u001b[39m,\u001b[39m0\u001b[39m), (\u001b[39m640\u001b[39m, \u001b[39m40\u001b[39m), (\u001b[39m245\u001b[39m, \u001b[39m117\u001b[39m, \u001b[39m16\u001b[39m), \u001b[39m-\u001b[39m\u001b[39m1\u001b[39m)\n\u001b[1;32m---> 48\u001b[0m cv2\u001b[39m.\u001b[39;49mputText(image, \u001b[39m'\u001b[39;49m\u001b[39m \u001b[39;49m\u001b[39m'\u001b[39;49m\u001b[39m.\u001b[39;49mjoin(sentence), (\u001b[39m3\u001b[39;49m,\u001b[39m30\u001b[39;49m),\n\u001b[0;32m     49\u001b[0m                cv2\u001b[39m.\u001b[39;49mFONT_HERSHEY_SIMPLEX, \u001b[39m1\u001b[39;49m, (\u001b[39m255\u001b[39;49m, \u001b[39m255\u001b[39;49m, \u001b[39m255\u001b[39;49m), \u001b[39m2\u001b[39;49m, cv2\u001b[39m.\u001b[39;49mLINE_AA)\n\u001b[0;32m     51\u001b[0m \u001b[39m# Show to screen\u001b[39;00m\n\u001b[0;32m     52\u001b[0m cv2\u001b[39m.\u001b[39mimshow(\u001b[39m'\u001b[39m\u001b[39mOpenCV Feed\u001b[39m\u001b[39m'\u001b[39m, image)\n",
      "\u001b[1;31mKeyboardInterrupt\u001b[0m: "
     ]
    }
   ],
   "source": [
    "sequence = []\n",
    "sentence = []\n",
    "threshold = 0.3\n",
    "\n",
    "cap = cv2.VideoCapture(0)\n",
    "# Set mediapipe model\n",
    "with mp_holistic.Holistic(min_detection_confidence=0.5, min_tracking_confidence=0.5) as holistic:\n",
    "    while cap.isOpened():\n",
    "\n",
    "        # Read feed\n",
    "        ret, frame = cap.read()\n",
    "\n",
    "        # Make detections\n",
    "        image, results = mediapipe_detection(frame, holistic)\n",
    "        print(results)\n",
    "\n",
    "        # Draw landmarks\n",
    "        draw_styled_landmarks(image, results)\n",
    "\n",
    "        # 2. Prediction logic\n",
    "        keypoints = extract_keypoints(results)\n",
    "#         sequence.insert(0,keypoints)\n",
    "#         sequence = sequence[:30]\n",
    "        sequence.append(keypoints)\n",
    "        sequence = sequence[-30:]\n",
    "\n",
    "        if len(sequence) == 30:\n",
    "            res = model.predict(np.expand_dims(sequence, axis=0))[0]\n",
    "            print(Language[actions[np.argmax(res)]])\n",
    "            cv2.waitKey(500)\n",
    "\n",
    "\n",
    "        #3. Viz logic\n",
    "            if res[np.argmax(res)] > threshold:\n",
    "                if len(sentence) > 0:\n",
    "                    if actions[np.argmax(res)] != sentence[-1]:\n",
    "                        sentence.append(actions[np.argmax(res)])\n",
    "                else:\n",
    "                    sentence.append(actions[np.argmax(res)])\n",
    "\n",
    "            if len(sentence) > 5:\n",
    "                sentence = sentence[-5:]\n",
    "\n",
    "            # Viz probabilities\n",
    "            # image = prob_viz(res, actions, image, colors)\n",
    "\n",
    "        cv2.rectangle(image, (0,0), (640, 40), (245, 117, 16), -1)\n",
    "        cv2.putText(image, ' '.join(sentence), (3,30),\n",
    "                       cv2.FONT_HERSHEY_SIMPLEX, 1, (255, 255, 255), 2, cv2.LINE_AA)\n",
    "\n",
    "        # Show to screen\n",
    "        cv2.imshow('OpenCV Feed', image)\n",
    "\n",
    "        # Break gracefully\n",
    "        if cv2.waitKey(10) & 0xFF == ord('q'):\n",
    "            break\n",
    "    cap.release()\n",
    "    cv2.destroyAllWindows()"
   ]
  },
  {
   "cell_type": "code",
   "execution_count": null,
   "metadata": {
    "ExecuteTime": {
     "end_time": "2023-08-03T17:56:17.735170400Z",
     "start_time": "2023-08-03T17:56:17.415358900Z"
    },
    "collapsed": false
   },
   "outputs": [],
   "source": [
    "cap.release()\n",
    "cv2.destroyAllWindows()"
   ]
  },
  {
   "cell_type": "code",
   "execution_count": null,
   "metadata": {
    "collapsed": false
   },
   "outputs": [],
   "source": []
  }
 ],
 "metadata": {
  "kernelspec": {
   "display_name": "venv",
   "language": "python",
   "name": "python3"
  },
  "language_info": {
   "codemirror_mode": {
    "name": "ipython",
    "version": 3
   },
   "file_extension": ".py",
   "mimetype": "text/x-python",
   "name": "python",
   "nbconvert_exporter": "python",
   "pygments_lexer": "ipython3",
   "version": "3.9.0"
  },
  "vscode": {
   "interpreter": {
    "hash": "05cd9d35e4bd12d5ff8a91d6b908161f7bf89c16fb60af642856ca0ed2083e5d"
   }
  }
 },
 "nbformat": 4,
 "nbformat_minor": 0
}
